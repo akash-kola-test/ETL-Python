{
  "nbformat": 4,
  "nbformat_minor": 0,
  "metadata": {
    "colab": {
      "provenance": [],
      "mount_file_id": "1LO5SV16f1DtqsRGCqlfPCBAtTehg1NyA",
      "authorship_tag": "ABX9TyPVGspqPVEXHxZnngtuaEq7",
      "include_colab_link": true
    },
    "kernelspec": {
      "name": "python3",
      "display_name": "Python 3"
    },
    "language_info": {
      "name": "python"
    }
  },
  "cells": [
    {
      "cell_type": "markdown",
      "metadata": {
        "id": "view-in-github",
        "colab_type": "text"
      },
      "source": [
        "<a href=\"https://colab.research.google.com/github/akash-kola-test/ETL-Python/blob/main/ETL-Colab.ipynb\" target=\"_parent\"><img src=\"https://colab.research.google.com/assets/colab-badge.svg\" alt=\"Open In Colab\"/></a>"
      ]
    },
    {
      "cell_type": "code",
      "execution_count": null,
      "metadata": {
        "id": "gXvVwrTxEXJr"
      },
      "outputs": [],
      "source": [
        "import pandas as pd"
      ]
    },
    {
      "cell_type": "code",
      "source": [
        "pd.options.mode.copy_on_write = True"
      ],
      "metadata": {
        "id": "BtBdjfSYJg5e"
      },
      "execution_count": null,
      "outputs": []
    },
    {
      "cell_type": "code",
      "source": [
        "survey_results = pd.read_csv(\"/content/drive/MyDrive/survey_results_public.csv\")"
      ],
      "metadata": {
        "id": "59Gl-udZffPV"
      },
      "execution_count": null,
      "outputs": []
    },
    {
      "cell_type": "code",
      "source": [
        "survey_results.columns"
      ],
      "metadata": {
        "colab": {
          "base_uri": "https://localhost:8080/"
        },
        "id": "_afwFGg9fk6I",
        "outputId": "3a7da3ee-9720-4add-ee1a-14c568809966"
      },
      "execution_count": null,
      "outputs": [
        {
          "output_type": "execute_result",
          "data": {
            "text/plain": [
              "Index(['Respondent', 'MainBranch', 'Hobbyist', 'OpenSourcer', 'OpenSource',\n",
              "       'Employment', 'Country', 'Student', 'EdLevel', 'UndergradMajor',\n",
              "       'EduOther', 'OrgSize', 'DevType', 'YearsCode', 'Age1stCode',\n",
              "       'YearsCodePro', 'CareerSat', 'JobSat', 'MgrIdiot', 'MgrMoney',\n",
              "       'MgrWant', 'JobSeek', 'LastHireDate', 'LastInt', 'FizzBuzz',\n",
              "       'JobFactors', 'ResumeUpdate', 'CurrencySymbol', 'CurrencyDesc',\n",
              "       'CompTotal', 'CompFreq', 'ConvertedComp', 'WorkWeekHrs', 'WorkPlan',\n",
              "       'WorkChallenge', 'WorkRemote', 'WorkLoc', 'ImpSyn', 'CodeRev',\n",
              "       'CodeRevHrs', 'UnitTests', 'PurchaseHow', 'PurchaseWhat',\n",
              "       'LanguageWorkedWith', 'LanguageDesireNextYear', 'DatabaseWorkedWith',\n",
              "       'DatabaseDesireNextYear', 'PlatformWorkedWith',\n",
              "       'PlatformDesireNextYear', 'WebFrameWorkedWith',\n",
              "       'WebFrameDesireNextYear', 'MiscTechWorkedWith',\n",
              "       'MiscTechDesireNextYear', 'DevEnviron', 'OpSys', 'Containers',\n",
              "       'BlockchainOrg', 'BlockchainIs', 'BetterLife', 'ITperson', 'OffOn',\n",
              "       'SocialMedia', 'Extraversion', 'ScreenName', 'SOVisit1st',\n",
              "       'SOVisitFreq', 'SOVisitTo', 'SOFindAnswer', 'SOTimeSaved',\n",
              "       'SOHowMuchTime', 'SOAccount', 'SOPartFreq', 'SOJobs', 'EntTeams',\n",
              "       'SOComm', 'WelcomeChange', 'SONewContent', 'Age', 'Gender', 'Trans',\n",
              "       'Sexuality', 'Ethnicity', 'Dependents', 'SurveyLength', 'SurveyEase'],\n",
              "      dtype='object')"
            ]
          },
          "metadata": {},
          "execution_count": 77
        }
      ]
    },
    {
      "cell_type": "code",
      "source": [
        "# Task 1\n",
        "pd.to_numeric(\n",
        "    survey_results[\n",
        "        (survey_results[\"MainBranch\"] == \"I am a developer by profession\") &\n",
        "        (~survey_results[\"Age1stCode\"].isin([\"Younger than 5 years\", \"Older than 85\"]))\n",
        "    ][\"Age1stCode\"]\n",
        ").mean()"
      ],
      "metadata": {
        "colab": {
          "base_uri": "https://localhost:8080/"
        },
        "id": "nLdNK_-ifq8t",
        "outputId": "2e9ac0b7-b0c3-4439-8e20-168fbe76a2ae"
      },
      "execution_count": null,
      "outputs": [
        {
          "output_type": "execute_result",
          "data": {
            "text/plain": [
              "15.356114663454113"
            ]
          },
          "metadata": {},
          "execution_count": 132
        }
      ]
    },
    {
      "cell_type": "code",
      "source": [
        "# Task 2\n",
        "(survey_results[survey_results[\"MainBranch\"] == \"I am a developer by profession\"]\n",
        "    .groupby(\"Country\")[\"LanguageWorkedWith\"]\n",
        "    .apply(lambda x: x.str.contains(\"Python\", na=False).mean() * 100))"
      ],
      "metadata": {
        "colab": {
          "base_uri": "https://localhost:8080/"
        },
        "id": "aA-mccdOfvYe",
        "outputId": "80ecc7bf-0463-4f56-ed23-837cdd617ae7"
      },
      "execution_count": null,
      "outputs": [
        {
          "output_type": "execute_result",
          "data": {
            "text/plain": [
              "Country\n",
              "Afghanistan                              4.000000\n",
              "Albania                                 23.880597\n",
              "Algeria                                 32.142857\n",
              "Andorra                                  0.000000\n",
              "Angola                                  50.000000\n",
              "                                          ...    \n",
              "Venezuela, Bolivarian Republic of...    26.666667\n",
              "Viet Nam                                33.576642\n",
              "Yemen                                   30.000000\n",
              "Zambia                                  60.000000\n",
              "Zimbabwe                                22.222222\n",
              "Name: LanguageWorkedWith, Length: 170, dtype: float64"
            ]
          },
          "metadata": {},
          "execution_count": 143
        }
      ]
    },
    {
      "cell_type": "code",
      "source": [
        "# Task 3\n",
        "import geopandas as gpd\n",
        "world = gpd.read_file('/content/drive/MyDrive/ne_110m_admin_0_countries/ne_110m_admin_0_countries.shp')\n",
        "continent_and_country_lookup = {}\n",
        "\n",
        "def get_continent_by_country(x) -> str:\n",
        "    country_name = x.iloc[0]\n",
        "    if country_name in continent_and_country_lookup:\n",
        "        return continent_and_country_lookup[country_name]\n",
        "    country_row = world[world['NAME'] == country_name]\n",
        "\n",
        "    if not country_row.empty:\n",
        "        continent_and_country_lookup[country_name] = country_row['CONTINENT'].values[0]\n",
        "        return continent_and_country_lookup[country_name]\n",
        "    else:\n",
        "        return pd.NA\n",
        "\n",
        "survey_results_copy = survey_results.copy()\n",
        "survey_results_copy[\"Continent\"] = survey_results_copy[~survey_results_copy[\"Country\"].isna()].groupby(\"Country\")[\"Country\"].transform(get_continent_by_country)\n",
        "survey_results_copy.query('MainBranch == \"I am a developer by profession\" and CompFreq.notna() and Continent.notna()').groupby([\"Continent\", \"CompFreq\"])[\"CompTotal\"].mean()"
      ],
      "metadata": {
        "colab": {
          "base_uri": "https://localhost:8080/"
        },
        "id": "osvhRp920cr3",
        "outputId": "f4613fa9-f5b1-47ff-f822-1b2522507806"
      },
      "execution_count": null,
      "outputs": [
        {
          "output_type": "execute_result",
          "data": {
            "text/plain": [
              "Continent      CompFreq\n",
              "Africa         Monthly     6.443523e+06\n",
              "               Weekly      3.577087e+04\n",
              "               Yearly      1.464205e+06\n",
              "Asia           Monthly     1.034803e+07\n",
              "               Weekly      8.264466e+13\n",
              "               Yearly      2.407733e+09\n",
              "Europe         Monthly     9.492610e+04\n",
              "               Weekly      1.325482e+04\n",
              "               Yearly      1.105428e+05\n",
              "North America  Monthly     7.950468e+04\n",
              "               Weekly      4.115780e+04\n",
              "               Yearly      1.133351e+05\n",
              "Oceania        Monthly     8.089389e+04\n",
              "               Weekly      3.772328e+04\n",
              "               Yearly      1.111284e+05\n",
              "South America  Monthly     7.376358e+05\n",
              "               Weekly      5.398644e+05\n",
              "               Yearly      3.934941e+06\n",
              "Name: CompTotal, dtype: float64"
            ]
          },
          "metadata": {},
          "execution_count": 150
        }
      ]
    },
    {
      "cell_type": "code",
      "source": [
        "# Task 4\n",
        "survey_results[\"LanguageDesireNextYear\"].str.split(\";\", expand=True).stack().reset_index(drop=True).value_counts().sort_values(ascending=False).head(1)"
      ],
      "metadata": {
        "colab": {
          "base_uri": "https://localhost:8080/"
        },
        "id": "oOGBYspZ2KOM",
        "outputId": "d1440a8b-550a-40fe-91f4-ad12ba2793a9"
      },
      "execution_count": null,
      "outputs": [
        {
          "output_type": "execute_result",
          "data": {
            "text/plain": [
              "JavaScript    44739\n",
              "Name: count, dtype: int64"
            ]
          },
          "metadata": {},
          "execution_count": 190
        }
      ]
    },
    {
      "cell_type": "code",
      "source": [
        "# Task 5\n",
        "import geopandas as gpd\n",
        "world = gpd.read_file('/content/drive/MyDrive/ne_110m_admin_0_countries/ne_110m_admin_0_countries.shp')\n",
        "continent_and_country_lookup = {}\n",
        "\n",
        "def get_continent_by_country(x) -> str:\n",
        "    country_name = x.iloc[0]\n",
        "    if country_name in continent_and_country_lookup:\n",
        "        return continent_and_country_lookup[country_name]\n",
        "    country_row = world[world['NAME'] == country_name]\n",
        "\n",
        "    if not country_row.empty:\n",
        "        continent_and_country_lookup[country_name] = country_row['CONTINENT'].values[0]\n",
        "        return continent_and_country_lookup[country_name]\n",
        "    else:\n",
        "        return pd.NA\n",
        "\n",
        "survey_results_copy_2 = survey_results.copy()\n",
        "survey_results_copy_2[\"Continent\"] = survey_results_copy_2[~survey_results_copy_2[\"Country\"].isna()].groupby(\"Country\")[\"Country\"].transform(get_continent_by_country)\n",
        "survey_results_copy_2[\"Gender\"] = survey_results_copy_2[\"Gender\"].apply(lambda x: \"OTHERS\" if x not in [\"Man\", \"Woman\"] else x)\n",
        "survey_results_copy_2.query('Gender.notna() & Continent.notna() & Hobbyist == \"Yes\"').groupby([\"Gender\", \"Continent\"])[\"Hobbyist\"].count()"
      ],
      "metadata": {
        "colab": {
          "base_uri": "https://localhost:8080/"
        },
        "id": "_2HPHu7mScKS",
        "outputId": "aae57bd9-56b7-4e97-a39e-93968e2c0496"
      },
      "execution_count": null,
      "outputs": [
        {
          "output_type": "execute_result",
          "data": {
            "text/plain": [
              "Gender  Continent    \n",
              "Man     Africa            1865\n",
              "        Asia             12108\n",
              "        Europe           24784\n",
              "        North America     3106\n",
              "        Oceania           1800\n",
              "        South America     2426\n",
              "OTHERS  Africa             103\n",
              "        Asia               992\n",
              "        Europe            1085\n",
              "        North America      163\n",
              "        Oceania            113\n",
              "        South America       65\n",
              "Woman   Africa             119\n",
              "        Asia               730\n",
              "        Europe            1305\n",
              "        North America      220\n",
              "        Oceania            100\n",
              "        South America      107\n",
              "Name: Hobbyist, dtype: int64"
            ]
          },
          "metadata": {},
          "execution_count": 196
        }
      ]
    },
    {
      "cell_type": "code",
      "source": [
        "# Task 6\n",
        "import geopandas as gpd\n",
        "world = gpd.read_file('/content/drive/MyDrive/ne_110m_admin_0_countries/ne_110m_admin_0_countries.shp')\n",
        "continent_and_country_lookup = {}\n",
        "\n",
        "def get_continent_by_country(x) -> str:\n",
        "    country_name = x.iloc[0]\n",
        "    if country_name in continent_and_country_lookup:\n",
        "        return continent_and_country_lookup[country_name]\n",
        "    country_row = world[world['NAME'] == country_name]\n",
        "\n",
        "    if not country_row.empty:\n",
        "        continent_and_country_lookup[country_name] = country_row['CONTINENT'].values[0]\n",
        "        return continent_and_country_lookup[country_name]\n",
        "    else:\n",
        "        return pd.NA\n",
        "\n",
        "survey_results_copy_2 = survey_results.copy()\n",
        "survey_results_copy_2[\"Continent\"] = survey_results_copy_2[~survey_results_copy_2[\"Country\"].isna()].groupby(\"Country\")[\"Country\"].transform(get_continent_by_country)\n",
        "survey_results_copy_2[\"Gender\"] = survey_results_copy_2[\"Gender\"].apply(lambda x: \"OTHERS\" if x not in [\"Man\", \"Woman\"] else x)\n",
        "print(survey_results_copy_2.query('Gender.notna() & Continent.notna() & JobSat.notna() & CareerSat.notna()').groupby([\"Gender\", \"Continent\"])['CareerSat'].value_counts())\n",
        "print(\"\\n\\n\\n\")\n",
        "print(survey_results_copy_2.query('Gender.notna() & Continent.notna() & JobSat.notna() & CareerSat.notna()').groupby([\"Gender\", \"Continent\"])['JobSat'].value_counts())"
      ],
      "metadata": {
        "colab": {
          "base_uri": "https://localhost:8080/"
        },
        "id": "SYbRdNj3Zq0F",
        "outputId": "d5c1853e-528d-41f4-b9ce-c20f76a2164a"
      },
      "execution_count": null,
      "outputs": [
        {
          "output_type": "stream",
          "name": "stdout",
          "text": [
            "Gender  Continent      CareerSat                         \n",
            "Man     Africa         Very satisfied                        521\n",
            "                       Slightly satisfied                    507\n",
            "                       Neither satisfied nor dissatisfied    168\n",
            "                       Slightly dissatisfied                 161\n",
            "                       Very dissatisfied                     112\n",
            "                                                            ... \n",
            "Woman   South America  Slightly satisfied                     54\n",
            "                       Very satisfied                         52\n",
            "                       Slightly dissatisfied                  21\n",
            "                       Neither satisfied nor dissatisfied     11\n",
            "                       Very dissatisfied                       7\n",
            "Name: count, Length: 90, dtype: int64\n",
            "\n",
            "\n",
            "\n",
            "\n",
            "Gender  Continent      JobSat                            \n",
            "Man     Africa         Slightly satisfied                    522\n",
            "                       Very satisfied                        338\n",
            "                       Slightly dissatisfied                 250\n",
            "                       Neither satisfied nor dissatisfied    227\n",
            "                       Very dissatisfied                     132\n",
            "                                                            ... \n",
            "Woman   South America  Slightly satisfied                     50\n",
            "                       Very satisfied                         43\n",
            "                       Slightly dissatisfied                  21\n",
            "                       Neither satisfied nor dissatisfied     20\n",
            "                       Very dissatisfied                      11\n",
            "Name: count, Length: 90, dtype: int64\n"
          ]
        }
      ]
    },
    {
      "cell_type": "code",
      "source": [],
      "metadata": {
        "id": "_5H_znE3a6Dv"
      },
      "execution_count": null,
      "outputs": []
    }
  ]
}